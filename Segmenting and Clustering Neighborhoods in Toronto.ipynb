{
    "cells": [
        {
            "metadata": {},
            "cell_type": "markdown",
            "source": "# 'Applied Data Science Capstone' Project\n\nThis notebook will mainly be used for the above-mentioned capstone project."
        },
        {
            "metadata": {},
            "cell_type": "code",
            "source": "# importing libraries\nimport pandas as pd\nimport numpy as np\nimport requests\nfrom bs4 import BeautifulSoup as soup",
            "execution_count": 113,
            "outputs": []
        },
        {
            "metadata": {},
            "cell_type": "code",
            "source": "# Print the following the statement: Hello Capstone Project Course!\nprint(\"Hello Capstone Project Course!\")",
            "execution_count": 13,
            "outputs": [
                {
                    "output_type": "stream",
                    "text": "Hello Capstone Project Course!\n",
                    "name": "stdout"
                }
            ]
        },
        {
            "metadata": {},
            "cell_type": "markdown",
            "source": "---\n\n## Peer-graded Assignment: Segmenting and Clustering Neighborhoods in Toronto"
        },
        {
            "metadata": {},
            "cell_type": "markdown",
            "source": "1. Start by creating a new Notebook for this assignment."
        },
        {
            "metadata": {},
            "cell_type": "code",
            "source": "# You are reading it right now, so this obviously already happened.",
            "execution_count": 16,
            "outputs": []
        },
        {
            "metadata": {},
            "cell_type": "markdown",
            "source": "---\n\n2. Use the Notebook to build the code to scrape the following Wikipedia page, https://en.wikipedia.org/wiki/List_of_postal_codes_of_Canada:_M, in order to obtain the data that is in the table of postal codes and to transform the data into a pandas dataframe like the one shown below:\n\n![alt text](https://bit.ly/3pF2zYc \"Screenshot of pandas dataframe\")\n"
        },
        {
            "metadata": {},
            "cell_type": "markdown",
            "source": "3. To create the above dataframe:\n  + The dataframe will consist of three columns: PostalCode, Borough, and Neighborhood\n  + Only process the cells that have an assigned borough. Ignore cells with a borough that is **Not assigned**.\n  + More than one neighborhood can exist in one postal code area. For example, in the table on the Wikipedia page, you will notice that **M5A** is listed twice and has two neighborhoods: **Harbourfront** and **Regent Park**. These two rows will be combined into one row with the neighborhoods separated with a comma as shown in **row 11**  in the above table.\n  + If a cell has a borough but a **Not assigned** neighborhood, then the neighborhood will be the same as the borough.\n  + Clean your Notebook and add Markdown cells to explain your work and any assumptions you are making.\n  + In the last cell of your notebook, use the **.shape** method to print the number of rows of your dataframe."
        },
        {
            "metadata": {},
            "cell_type": "code",
            "source": "# ----------------\n# SCRAPING OF DATA\n# ----------------\n\n# define url\nurl = \"https://en.wikipedia.org/wiki/List_of_postal_codes_of_Canada:_M\"\n\n# request\nr = requests.Session()\nresponse = r.get(url, timeout=10)  # expected value: 200\n\n# using BeautifulSoup package for scraping webpages\nsoup = BeautifulSoup(response.content, 'html.parser')\npretty_soup = soup.prettify()\n\n# find the table in the html\ntable=soup.find('table')\n\n# Number of columns in the table\nfor row in right_table.findAll(\"tr\"):\n    columns = row.findAll(\"td\")\nlen(columns)\n\n# Number of rows in the table including header\nrows = right_table.findAll(\"tr\")\nlen(rows)\n\nprint(\"The table has a size of \" + str(len(columns)), \"columns and \" + str(len(rows)-1), \"rows (not including the header).\")",
            "execution_count": 127,
            "outputs": [
                {
                    "output_type": "stream",
                    "text": "The table has a size of 3 columns and 180 rows (not including the header).\n",
                    "name": "stdout"
                }
            ]
        },
        {
            "metadata": {},
            "cell_type": "code",
            "source": "# ----------------------\n# CREATING THE DATAFRAME\n# ----------------------\n\n# getting column names / header\nheader = [th.text.rstrip() for th in rows[0].find_all(\"th\")]  # optional: print(header)\n\n# getting first row information as a test\nrow1 = [td.text.rstrip() for td in rows[1].find_all(\"td\")]  # optional: print(row1)\n\n# define empty list to fill with row information\nallrows = []\n\n# getting all rows now\nfor row in rows[1:]:\n    data = [d.text.rstrip() for d in row.find_all('td')]\n    allrows.append(data)  # optional: print(allrows)\n\n# creating the DataFrame\ndf = pd.DataFrame(allrows)\ndf.head()",
            "execution_count": 162,
            "outputs": [
                {
                    "output_type": "execute_result",
                    "execution_count": 162,
                    "data": {
                        "text/plain": "     0                 1                          2\n0  M1A      Not assigned               Not assigned\n1  M2A      Not assigned               Not assigned\n2  M3A        North York                  Parkwoods\n3  M4A        North York           Victoria Village\n4  M5A  Downtown Toronto  Regent Park, Harbourfront",
                        "text/html": "<div>\n<style scoped>\n    .dataframe tbody tr th:only-of-type {\n        vertical-align: middle;\n    }\n\n    .dataframe tbody tr th {\n        vertical-align: top;\n    }\n\n    .dataframe thead th {\n        text-align: right;\n    }\n</style>\n<table border=\"1\" class=\"dataframe\">\n  <thead>\n    <tr style=\"text-align: right;\">\n      <th></th>\n      <th>0</th>\n      <th>1</th>\n      <th>2</th>\n    </tr>\n  </thead>\n  <tbody>\n    <tr>\n      <th>0</th>\n      <td>M1A</td>\n      <td>Not assigned</td>\n      <td>Not assigned</td>\n    </tr>\n    <tr>\n      <th>1</th>\n      <td>M2A</td>\n      <td>Not assigned</td>\n      <td>Not assigned</td>\n    </tr>\n    <tr>\n      <th>2</th>\n      <td>M3A</td>\n      <td>North York</td>\n      <td>Parkwoods</td>\n    </tr>\n    <tr>\n      <th>3</th>\n      <td>M4A</td>\n      <td>North York</td>\n      <td>Victoria Village</td>\n    </tr>\n    <tr>\n      <th>4</th>\n      <td>M5A</td>\n      <td>Downtown Toronto</td>\n      <td>Regent Park, Harbourfront</td>\n    </tr>\n  </tbody>\n</table>\n</div>"
                    },
                    "metadata": {}
                }
            ]
        },
        {
            "metadata": {},
            "cell_type": "code",
            "source": "# -------------------\n# DATA PRE-PROCESSING\n# -------------------\n\n# assigning header to dataframe\ndf.columns = header\n\n# deleting cells with a borough that is \"Not assigned\".\ndf.replace('Not assigned', np.NaN, inplace=True)\ndf.dropna(subset=[\"Borough\"], axis=0, inplace=True)\n\n# setting Neighbourhoods that are \"Not assigned\" to the same value as the Borough\ndf[\"Neighbourhood\"].replace(np.NaN, \"Borough\", inplace=True)\n\n# resetting the index\ndf.reset_index(drop=True, inplace=True)\n\n# having a glimpse\ndf.head()",
            "execution_count": 200,
            "outputs": [
                {
                    "output_type": "execute_result",
                    "execution_count": 200,
                    "data": {
                        "text/plain": "  Postal Code           Borough                                Neighbourhood\n0         M3A        North York                                    Parkwoods\n1         M4A        North York                             Victoria Village\n2         M5A  Downtown Toronto                    Regent Park, Harbourfront\n3         M6A        North York             Lawrence Manor, Lawrence Heights\n4         M7A  Downtown Toronto  Queen's Park, Ontario Provincial Government",
                        "text/html": "<div>\n<style scoped>\n    .dataframe tbody tr th:only-of-type {\n        vertical-align: middle;\n    }\n\n    .dataframe tbody tr th {\n        vertical-align: top;\n    }\n\n    .dataframe thead th {\n        text-align: right;\n    }\n</style>\n<table border=\"1\" class=\"dataframe\">\n  <thead>\n    <tr style=\"text-align: right;\">\n      <th></th>\n      <th>Postal Code</th>\n      <th>Borough</th>\n      <th>Neighbourhood</th>\n    </tr>\n  </thead>\n  <tbody>\n    <tr>\n      <th>0</th>\n      <td>M3A</td>\n      <td>North York</td>\n      <td>Parkwoods</td>\n    </tr>\n    <tr>\n      <th>1</th>\n      <td>M4A</td>\n      <td>North York</td>\n      <td>Victoria Village</td>\n    </tr>\n    <tr>\n      <th>2</th>\n      <td>M5A</td>\n      <td>Downtown Toronto</td>\n      <td>Regent Park, Harbourfront</td>\n    </tr>\n    <tr>\n      <th>3</th>\n      <td>M6A</td>\n      <td>North York</td>\n      <td>Lawrence Manor, Lawrence Heights</td>\n    </tr>\n    <tr>\n      <th>4</th>\n      <td>M7A</td>\n      <td>Downtown Toronto</td>\n      <td>Queen's Park, Ontario Provincial Government</td>\n    </tr>\n  </tbody>\n</table>\n</div>"
                    },
                    "metadata": {}
                }
            ]
        },
        {
            "metadata": {},
            "cell_type": "code",
            "source": "# In the last cell of your notebook, use the .shape method to print the number of rows of your dataframe.\nprint(\"df.shape =\", df.shape,\n      \"--> so that means our DataFrame \\\"df\\\" consists of\", df.shape[0], \"rows and\", df.shape[1], \"columns.\")",
            "execution_count": 205,
            "outputs": [
                {
                    "output_type": "stream",
                    "text": "df.shape = (103, 3) --> so that means our DataFrame \"df\" consists of 103 rows and 3 columns.\n",
                    "name": "stdout"
                }
            ]
        },
        {
            "metadata": {},
            "cell_type": "markdown",
            "source": "---\n\n4. Submit a link to your Notebook on your Github repository. **(10 marks)**"
        },
        {
            "metadata": {},
            "cell_type": "code",
            "source": "## Submit a link to your Notebook on your Github repository.\n",
            "execution_count": null,
            "outputs": []
        },
        {
            "metadata": {},
            "cell_type": "markdown",
            "source": "*Note: There are different website scraping libraries and packages in Python. For scraping the above table, you can simply use pandas  to read the table into a pandas dataframe.*\n\n*Another way, which would help to learn for more complicated cases of web scraping is using the BeautifulSoup package. Here is the package's main documentation page: http://beautiful-soup-4.readthedocs.io/en/latest/*\n\n*Use pandas, or the BeautifulSoup package, or any other way you are comfortable with to transform the data in the table on the Wikipedia page into the above pandas dataframe.*\n\n---"
        },
        {
            "metadata": {},
            "cell_type": "markdown",
            "source": "Now that you have built a dataframe of the postal code of each neighborhood along with the borough name and neighborhood name, in order to utilize the Foursquare location data, we need to get the latitude and the longitude coordinates of each neighborhood. \n\nIn an older version of this course, we were leveraging the Google Maps Geocoding API to get the latitude and the longitude coordinates of each neighborhood. However, recently Google started charging for their API: http://geoawesomeness.com/developers-up-in-arms-over-google-maps-api-insane-price-hike/, so we will use the Geocoder Python package instead: https://geocoder.readthedocs.io/index.html.\n\nThe problem with this Package is you have to be persistent sometimes in order to get the geographical coordinates of a given postal code. So you can make a call to get the latitude and longitude coordinates of a given postal code and the result would be None, and then make the call again and you would get the coordinates. So, in order to make sure that you get the coordinates for all of our neighborhoods, you can run a while loop for each postal code. Taking  postal code **M5G** as an example, your code would look something like this:"
        },
        {
            "metadata": {},
            "cell_type": "markdown",
            "source": "```\nimport geocoder # import geocoder\n\n# initialize your variable to None\nlat_lng_coords = None\n\n# loop until you get the coordinates\nwhile(lat_lng_coords is None):\n  g = geocoder.google('{}, Toronto, Ontario'.format(postal_code))\n  lat_lng_coords = g.latlng\n\nlatitude = lat_lng_coords[0]\nlongitude = lat_lng_coords[1]\n```"
        },
        {
            "metadata": {},
            "cell_type": "markdown",
            "source": "Given that this package can be very unreliable, in case you are not able to get the geographical coordinates of the neighborhoods using the Geocoder package, here is a link to a csv file that has the geographical coordinates of each postal code: http://cocl.us/Geospatial_data\n\nUse the Geocoder package or the csv file to create the following dataframe:\n\n![alt text](https://bit.ly/2ZFUGXI \"Screenshot of pandas dataframe\")"
        },
        {
            "metadata": {},
            "cell_type": "markdown",
            "source": "**Important Note:** There is a limit on how many times you can call geocoder.google function. It is 2500 times per day. This should be way more than enough for you to get acquainted with the package and to use it to get the geographical coordinates of the neighborhoods in the Toronto.\n\nOnce you are able to create the above dataframe, submit a link to the new Notebook on your Github repository. **(2 marks)**\n\n**Note:** While including the link do not copy paste the URL. Use the embedded link option in the formatting  tools of the Response field to include the link. Check the  displayed in image below"
        },
        {
            "metadata": {},
            "cell_type": "code",
            "source": "## submit a link to the new Notebook on your Github repository\n",
            "execution_count": null,
            "outputs": []
        },
        {
            "metadata": {},
            "cell_type": "markdown",
            "source": "---"
        },
        {
            "metadata": {},
            "cell_type": "markdown",
            "source": "Explore and cluster the neighborhoods in Toronto. You can decide to work with only boroughs that contain the word Toronto and then replicate the same analysis we did to the New York City data. It is up to you. \n\nJust make sure:\n\n1. to add enough Markdown cells to explain what you decided to do and to report any observations you make. \n2. to generate maps to visualize your neighborhoods and how they cluster together. \n\nOnce you are happy with your analysis, submit a link to the new Notebook on your Github repository. **(3 marks)**"
        },
        {
            "metadata": {},
            "cell_type": "code",
            "source": "## submit a link to the new Notebook on your Github repository\n",
            "execution_count": null,
            "outputs": []
        }
    ],
    "metadata": {
        "kernelspec": {
            "name": "python3",
            "display_name": "Python 3.7",
            "language": "python"
        },
        "language_info": {
            "name": "python",
            "version": "3.7.9",
            "mimetype": "text/x-python",
            "codemirror_mode": {
                "name": "ipython",
                "version": 3
            },
            "pygments_lexer": "ipython3",
            "nbconvert_exporter": "python",
            "file_extension": ".py"
        }
    },
    "nbformat": 4,
    "nbformat_minor": 1
}