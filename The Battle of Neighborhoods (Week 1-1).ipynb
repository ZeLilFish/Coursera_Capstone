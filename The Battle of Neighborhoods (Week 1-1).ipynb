{
    "cells": [
        {
            "metadata": {
                "collapsed": true
            },
            "cell_type": "markdown",
            "source": "## INTRODUCTION\n\n<br>Deyan Sudjic's deeply original book *The Language of Cities* begins with the statement, that *City* is a word used to describe both tiny settlements and urban mega-structures like Tokyo or Mexico City with populations of tens of millions people, so almost anything.\n<br>Eventually, according to Sudjic, **a city is made by its people, within the bounds of the possibilities that it can offer them**.\n\nIndividual humans are more mobile than ever, millions of us moving homes, cities, and countries every year.\n<br>We find ourselves in strange new environments, often only having rough ideas about our new surroundings, and exploring them is naturally part of the enjoyment.\n<br>However, the initial question is obviously: **where to start?**\n\nDifferent areas of cities are usually quite different from each other, and - especially as newcomers - we are usually not immediately aware of which parts of a town offer which types of possibilities.\n<br>That is true whether it is in terms of housing, transportation, entertainment & culture, tourism quality of life, opportunities to open a new business, etc.\n<br>Especially when looking for an appartement, knowledge about the different parts of town can be quite helpful to decide in which neighborhood to spend the next few years.\n\nA careful analysis of the single areas of your new home can offer deep insights about their differences and commonalities, what is available and what is lacking there.\n<br>This is true for both e.g. a family looking for a house in a family-friendly neighborhood, as well as for a business person thinking about opening e.g. a restaurant and looking for a suitable location to ensure long-term success.\n\n<br>\n\n### BUSINESS PROBLEM section\n\n<br>The focus will be on the city of **Bristol** in the Southwest of the United Kingdom.\n<br>The intention of the project is to use openly accessible data to **determine the different types of wards (the local term for neighborhoods) and their possibilities**.\n\n<br>The goal is to find out about the **most popular areas by analyzing data** like the distribution of types and number of venues in specific wards, as well as the quality of life reported by its inhabitants.\n\n<br>The results then should provide information that will be of interest to the following **target audience**:\n<br>\n\n   * **Individuals and families** moving to Bristol that would like to know which neighborhood would suit them most and thus look for a new home there.\n   \n    \n   * **Property management companies** that would like to estimate the influence of the location of the property as additional factor in the final price (a \"good neighborhood\" allows for a higher overall price).\n   \n    \n   * **Business owners** that would like to know about up-and-coming, popular neighborhoods to open their new business (e.g. restaurant, hair dresser, bicycle shop, etc.).\n   \n     \n   * **Tourists** who would like to enjoy certain types of entertainment, restaurants, etc.\n    \n<br><br>\n\n*PS: Since I moved to Bristol just recently, the main focus of this project will be on group #1.*"
        },
        {
            "metadata": {},
            "cell_type": "code",
            "source": "",
            "execution_count": null,
            "outputs": []
        }
    ],
    "metadata": {
        "kernelspec": {
            "name": "python3",
            "display_name": "Python 3.7",
            "language": "python"
        },
        "language_info": {
            "name": "python",
            "version": "3.7.9",
            "mimetype": "text/x-python",
            "codemirror_mode": {
                "name": "ipython",
                "version": 3
            },
            "pygments_lexer": "ipython3",
            "nbconvert_exporter": "python",
            "file_extension": ".py"
        }
    },
    "nbformat": 4,
    "nbformat_minor": 1
}