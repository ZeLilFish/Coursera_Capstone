{
    "cells": [
        {
            "metadata": {
                "collapsed": true
            },
            "cell_type": "markdown",
            "source": "## DATA section\n\n<br>To determine the different types of wards (local term for neighborhoods) in Bristol, especially in terms of highest quality of life and interesting types of venues (and their overall number), the following sources of information will be used:\n\n  * **Foursquare API**: That way the types and numbers of venues can be acquired for each ward.\n  \n  \n  * **OpenData Bristol**: The webpage https://opendata.bristol.gov.uk/ offers both a list of postcodes for each ward as well as large datasets on quality of life, air pollution, employment rates, etc. for each ward.\n\n<br>\n\n### General information\n\nBristol consists of 34 different wards, which in turn cover a very large number (approximately 17,000) of postcodes in the format ```BSxx yZZ```.\n<br>Here, ```BS``` stands for Bristol, ```xx``` is a one- or two-digit number, ```y``` is a one-digit number, and ```ZZ``` are two capital letters.\n\n<br>\n\n### Links to Data collection resources\n\nIt might be necessary to determine which postcodes make up which ward. This can be done via data-scraping the following page:\n<br>https://opendata.bristol.gov.uk/explore/dataset/postcode-lookup-for-the-west-of-england-february-2018-copy/table/?sort=status&refine.local_authority=Bristol\n\nThe coordinates of each ward can be found and scraped here:\n<br>https://opendata.bristol.gov.uk/explore/dataset/wards/information/\n\nInformation such as quality of life for each ward can be acquired from OpenData Bristol, too, see here:\n<br>https://opendata.bristol.gov.uk/pages/quality_of_life_results_201920/\n\nUsing the Foursquare API allows for getting information on all sorts of venues in the different wards, including the type of venue, nearby venues, etc.\n<br> This has been demonstrated extensively in the previous weeks on this Capstone Project.\n\n<br>\n\n### Combining all Data\n\nFinally, putting together the geographical information with the data on quality of life and types/number of venues, it can be estimated how \"popular\" a certain ward is in comparison with others.\n<br>This of course is rather subjective and a matter of taste, since some people might prefer different venues over others, so I will stick with my client's - *that is ME :)* - personal preference in that case."
        },
        {
            "metadata": {},
            "cell_type": "code",
            "source": "",
            "execution_count": null,
            "outputs": []
        }
    ],
    "metadata": {
        "kernelspec": {
            "name": "python3",
            "display_name": "Python 3.7",
            "language": "python"
        },
        "language_info": {
            "name": "python",
            "version": "3.7.9",
            "mimetype": "text/x-python",
            "codemirror_mode": {
                "name": "ipython",
                "version": 3
            },
            "pygments_lexer": "ipython3",
            "nbconvert_exporter": "python",
            "file_extension": ".py"
        }
    },
    "nbformat": 4,
    "nbformat_minor": 1
}